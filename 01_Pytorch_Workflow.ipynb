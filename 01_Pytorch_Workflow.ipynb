{
  "nbformat": 4,
  "nbformat_minor": 0,
  "metadata": {
    "colab": {
      "provenance": [],
      "authorship_tag": "ABX9TyPcnxLljJ66Oxk0w6K/Qa/u",
      "include_colab_link": true
    },
    "kernelspec": {
      "name": "python3",
      "display_name": "Python 3"
    },
    "language_info": {
      "name": "python"
    }
  },
  "cells": [
    {
      "cell_type": "markdown",
      "metadata": {
        "id": "view-in-github",
        "colab_type": "text"
      },
      "source": [
        "<a href=\"https://colab.research.google.com/github/dhanushdc21/Linear-Regression/blob/main/01_Pytorch_Workflow.ipynb\" target=\"_parent\"><img src=\"https://colab.research.google.com/assets/colab-badge.svg\" alt=\"Open In Colab\"/></a>"
      ]
    },
    {
      "cell_type": "markdown",
      "source": [
        "#Pytorch workflow"
      ],
      "metadata": {
        "id": "wBZRqPrdX6Q-"
      }
    },
    {
      "cell_type": "code",
      "source": [
        "import torch\n",
        "from torch import nn #nn contaions all of puytorchs building blocks\n",
        "import matplotlib.pyplot as plt"
      ],
      "metadata": {
        "id": "QylWvHU_e5Ks"
      },
      "execution_count": null,
      "outputs": []
    },
    {
      "cell_type": "markdown",
      "source": [
        "\n",
        "## 1. *Data* (preparing and loading)"
      ],
      "metadata": {
        "id": "5iq7GaohgtqA"
      }
    },
    {
      "cell_type": "code",
      "source": [
        "weight = 0.7\n",
        "bias = 0.3\n",
        "\n",
        "# Create\n",
        "start = 0\n",
        "end = 1\n",
        "step = 0.02\n",
        "X = torch.arange(start, end, step).unsqueeze(dim=1)\n",
        "y = weight * X + bias\n",
        "X[:10], y[:10], len(X), len(y)"
      ],
      "metadata": {
        "colab": {
          "base_uri": "https://localhost:8080/"
        },
        "id": "FMQIs9URuWNp",
        "outputId": "33db3d95-446f-470b-c23d-8ade208ea3f3"
      },
      "execution_count": null,
      "outputs": [
        {
          "output_type": "execute_result",
          "data": {
            "text/plain": [
              "(tensor([[0.0000],\n",
              "         [0.0200],\n",
              "         [0.0400],\n",
              "         [0.0600],\n",
              "         [0.0800],\n",
              "         [0.1000],\n",
              "         [0.1200],\n",
              "         [0.1400],\n",
              "         [0.1600],\n",
              "         [0.1800]]),\n",
              " tensor([[0.3000],\n",
              "         [0.3140],\n",
              "         [0.3280],\n",
              "         [0.3420],\n",
              "         [0.3560],\n",
              "         [0.3700],\n",
              "         [0.3840],\n",
              "         [0.3980],\n",
              "         [0.4120],\n",
              "         [0.4260]]),\n",
              " 50,\n",
              " 50)"
            ]
          },
          "metadata": {},
          "execution_count": 343
        }
      ]
    },
    {
      "cell_type": "code",
      "source": [
        "### Splitting data to training and test sets\n",
        "\n",
        " #Create a train/test split\n",
        "train_split = int(0.8 * len(X))\n",
        "train_split"
      ],
      "metadata": {
        "colab": {
          "base_uri": "https://localhost:8080/"
        },
        "id": "FE7XiRDY2y2R",
        "outputId": "2d706741-9100-421e-8e27-855011af8014"
      },
      "execution_count": null,
      "outputs": [
        {
          "output_type": "execute_result",
          "data": {
            "text/plain": [
              "40"
            ]
          },
          "metadata": {},
          "execution_count": 344
        }
      ]
    },
    {
      "cell_type": "code",
      "source": [
        "#Triain on 40 samples\n",
        "X_train, y_train = X[:train_split], y[:train_split]\n",
        "X_test, y_test = X[train_split:], y[train_split:]\n",
        "\n",
        "len(X_train)"
      ],
      "metadata": {
        "colab": {
          "base_uri": "https://localhost:8080/"
        },
        "id": "INMP4cgduX9d",
        "outputId": "32cb8091-6bf5-4897-ea43-cf65eee67437"
      },
      "execution_count": null,
      "outputs": [
        {
          "output_type": "execute_result",
          "data": {
            "text/plain": [
              "40"
            ]
          },
          "metadata": {},
          "execution_count": 345
        }
      ]
    },
    {
      "cell_type": "code",
      "source": [
        "def plot_predictions(train_data=X_train,\n",
        "                     train_labels= y_train,\n",
        "                     test_data=X_test,\n",
        "                     test_labels=y_test,\n",
        "                     predictions=None):\n",
        "  plt.figure(figsize=(10,7))\n",
        "\n",
        "  plt.scatter(train_data, train_labels, c=\"b\", s=4, label=\"Training data\")\n",
        "  plt.scatter(test_data,test_labels, c=\"g\",label=\"Testing data\")\n",
        "  if predictions is not None:\n",
        "    plt.scatter(test_data, predictions, c=\"r\",s =4, label=\"Predictions\")\n",
        "  plt.legend(prop={\"size\": 14})"
      ],
      "metadata": {
        "id": "UcI88XtVuR0I"
      },
      "execution_count": null,
      "outputs": []
    },
    {
      "cell_type": "code",
      "source": [
        "plot_predictions();"
      ],
      "metadata": {
        "colab": {
          "base_uri": "https://localhost:8080/",
          "height": 540
        },
        "id": "aQ2Ugu687uE7",
        "outputId": "ee180a34-c114-4efc-a968-f7cc562be0b8"
      },
      "execution_count": null,
      "outputs": [
        {
          "output_type": "display_data",
          "data": {
            "text/plain": [
              "<Figure size 1000x700 with 1 Axes>"
            ],
            "image/png": "[encoded data removed]"
          },
          "metadata": {}
        }
      ]
    },
    {
      "cell_type": "markdown",
      "source": [
        "###Byild model\n",
        "#First PyTorch model\n",
        "#Creating a linear regression model\n"
      ],
      "metadata": {
        "id": "j7DwIwx879w0"
      }
    },
    {
      "cell_type": "markdown",
      "source": [
        "Gradient descent, Backpropagation"
      ],
      "metadata": {
        "id": "SNiMHa5z7fKL"
      }
    },
    {
      "cell_type": "code",
      "source": [
        "class LinearRegressionModel(nn.Module): # Almost everything from pytorch inherit from nn.Module\n",
        "  def __init__(self):\n",
        "    super().__init__()\n",
        "    self.weights = nn.Parameter(torch.randn(1,\n",
        "                                            requires_grad = True,\n",
        "                                            dtype = torch.float))\n",
        "    self.bias = nn.Parameter(torch.randn(1,\n",
        "                                         requires_grad = True,\n",
        "                                         dtype=torch.float))\n",
        "    #Forward method to define the computation in the model\n",
        "  def forward(self, x: torch.Tensor) -> torch.Tensor: # <- \"x\" is the input data\n",
        "    return self.weights * x + bias #this is the linear regression formula\n"
      ],
      "metadata": {
        "id": "DivgO6hpqcZA"
      },
      "execution_count": null,
      "outputs": []
    },
    {
      "cell_type": "code",
      "source": [
        "#Torch.optim - Helps with gradient descent (Optimiser)\n",
        "# def forward() - All nn.Module subclasses require you to overwrite forward()"
      ],
      "metadata": {
        "id": "CKJZGDh89RXG"
      },
      "execution_count": null,
      "outputs": []
    },
    {
      "cell_type": "markdown",
      "source": [
        "### Checking the contents of our PyTOrch model\n",
        "\n",
        "Now we have created out model but now lets check what is inside.\n",
        "\n",
        "We can check what is inside out model using `.parameters()`"
      ],
      "metadata": {
        "id": "YsgMhIUVA5cO"
      }
    },
    {
      "cell_type": "code",
      "source": [
        "#Create a random seed\n",
        "torch.manual_seed(42)\n",
        "\n",
        "\n",
        "#Create an instance of the model (This is subclass of nn.Module)\n",
        "model_0 = LinearRegressionModel()\n",
        "\n",
        "#Check out parameters\n",
        "list(model_0.parameters())"
      ],
      "metadata": {
        "colab": {
          "base_uri": "https://localhost:8080/"
        },
        "id": "oJL_P4IjBK2C",
        "outputId": "b08226ec-2b6f-48fc-a7e8-7b204795fcfa"
      },
      "execution_count": null,
      "outputs": [
        {
          "output_type": "execute_result",
          "data": {
            "text/plain": [
              "[Parameter containing:\n",
              " tensor([0.3367], requires_grad=True),\n",
              " Parameter containing:\n",
              " tensor([0.1288], requires_grad=True)]"
            ]
          },
          "metadata": {},
          "execution_count": 350
        }
      ]
    },
    {
      "cell_type": "code",
      "source": [
        " #List named Parameters\n",
        "model_0.state_dict()"
      ],
      "metadata": {
        "colab": {
          "base_uri": "https://localhost:8080/"
        },
        "id": "6WWB9P09Bo2u",
        "outputId": "2b0de220-7eb4-4d3d-ff67-fbe5bfe941bc"
      },
      "execution_count": null,
      "outputs": [
        {
          "output_type": "execute_result",
          "data": {
            "text/plain": [
              "OrderedDict([('weights', tensor([0.3367])), ('bias', tensor([0.1288]))])"
            ]
          },
          "metadata": {},
          "execution_count": 351
        }
      ]
    },
    {
      "cell_type": "code",
      "source": [
        "#We need our model to make the values as close to the pre generated graph values.\n",
        "weight,bias"
      ],
      "metadata": {
        "colab": {
          "base_uri": "https://localhost:8080/"
        },
        "id": "M9agx3l7Csuu",
        "outputId": "bdcabdfa-c8b6-478b-f7a3-250558b33238"
      },
      "execution_count": null,
      "outputs": [
        {
          "output_type": "execute_result",
          "data": {
            "text/plain": [
              "(0.7, 0.3)"
            ]
          },
          "metadata": {},
          "execution_count": 352
        }
      ]
    },
    {
      "cell_type": "markdown",
      "source": [
        "### Making prediction using `torch.inference_mode()\n",
        "\n",
        "To check predicting lets see how well it predicts `y_test` based on `X_test`\n",
        "\n",
        "It will run the `forward()` method"
      ],
      "metadata": {
        "id": "b9gEDna-C7HI"
      }
    },
    {
      "cell_type": "code",
      "source": [
        "with torch.inference_mode(): #Inference mode : disables all things which are used during training which helps less thing to run in background. Search..\n",
        "  y_preds = model_0(X_test)\n",
        "\n",
        "#with torch.no_grad() - Can also be used but inference mode is prefered\n",
        "\n",
        "y_preds"
      ],
      "metadata": {
        "colab": {
          "base_uri": "https://localhost:8080/"
        },
        "id": "fSQCzPl_EBNT",
        "outputId": "30a6f939-aabb-4d9b-ac8c-d3447f02f66f"
      },
      "execution_count": null,
      "outputs": [
        {
          "output_type": "execute_result",
          "data": {
            "text/plain": [
              "tensor([[0.5694],\n",
              "        [0.5761],\n",
              "        [0.5828],\n",
              "        [0.5896],\n",
              "        [0.5963],\n",
              "        [0.6030],\n",
              "        [0.6098],\n",
              "        [0.6165],\n",
              "        [0.6232],\n",
              "        [0.6300]])"
            ]
          },
          "metadata": {},
          "execution_count": 353
        }
      ]
    },
    {
      "cell_type": "code",
      "source": [
        "y_test"
      ],
      "metadata": {
        "colab": {
          "base_uri": "https://localhost:8080/"
        },
        "id": "XUTj80VgEf9Y",
        "outputId": "88983125-3a76-4e10-e8eb-5b854a02372b"
      },
      "execution_count": null,
      "outputs": [
        {
          "output_type": "execute_result",
          "data": {
            "text/plain": [
              "tensor([[0.8600],\n",
              "        [0.8740],\n",
              "        [0.8880],\n",
              "        [0.9020],\n",
              "        [0.9160],\n",
              "        [0.9300],\n",
              "        [0.9440],\n",
              "        [0.9580],\n",
              "        [0.9720],\n",
              "        [0.9860]])"
            ]
          },
          "metadata": {},
          "execution_count": 354
        }
      ]
    },
    {
      "cell_type": "code",
      "source": [
        "plot_predictions(predictions=y_preds)"
      ],
      "metadata": {
        "colab": {
          "base_uri": "https://localhost:8080/",
          "height": 540
        },
        "id": "HalWP4TvE4s7",
        "outputId": "d6ccec3f-d0ac-43a6-97c7-2d1ad1163cb5"
      },
      "execution_count": null,
      "outputs": [
        {
          "output_type": "display_data",
          "data": {
            "text/plain": [
              "<Figure size 1000x700 with 1 Axes>"
            ],
            "image/png": "[encoded data removed]"
          },
          "metadata": {}
        }
      ]
    },
    {
      "cell_type": "markdown",
      "source": [
        "##An ideal model will replicate the known models.\n",
        "\n",
        "##Training a model - To move a model from unknown parameters to known parameters.\n",
        "\n",
        "Loss function of pytorch- Also called cost function or criterion,\n",
        "\n",
        " **A funciton to measure how wrong your models prediction are to an ideal model, the lower the better**\n",
        "\n",
        " Things we need to train :\n",
        "\n",
        " **Loss funciton**\n",
        "\n",
        " **Optimiser** - https://pytorch.org/docs/stable/optim.html#module-torch.optim"
      ],
      "metadata": {
        "id": "8T7A3Ik_FA5W"
      }
    },
    {
      "cell_type": "code",
      "source": [
        "model_0.state_dict()"
      ],
      "metadata": {
        "colab": {
          "base_uri": "https://localhost:8080/"
        },
        "id": "wySrjXl-cTxh",
        "outputId": "8f8adcfd-516f-40a6-d5f5-dc8c099899c9"
      },
      "execution_count": null,
      "outputs": [
        {
          "output_type": "execute_result",
          "data": {
            "text/plain": [
              "OrderedDict([('weights', tensor([0.3367])), ('bias', tensor([0.1288]))])"
            ]
          },
          "metadata": {},
          "execution_count": 356
        }
      ]
    },
    {
      "cell_type": "markdown",
      "source": [
        "###L1loss = Mean Absolute Error"
      ],
      "metadata": {
        "id": "d3VICI1rdJw8"
      }
    },
    {
      "cell_type": "code",
      "source": [
        "#Setup a loss funciton\n",
        "loss_fn = nn.L1Loss()\n",
        "\n",
        "#Set up an Optimizer\n",
        "optimizer = torch.optim.SGD(params=model_0.parameters(),\n",
        "                            lr=0.01)  #Learning rate - is most important hyperparameter set by the user"
      ],
      "metadata": {
        "id": "0GthOH7QeICg"
      },
      "execution_count": null,
      "outputs": []
    },
    {
      "cell_type": "markdown",
      "source": [
        "Thw smaller the change the smaller the change in parameter, the larger the value of lr, the larger change in the value of parameter"
      ],
      "metadata": {
        "id": "j1ANuOFlhTho"
      }
    },
    {
      "cell_type": "markdown",
      "source": [
        "###Building a training loop (and a testing loop) in  PyTorch"
      ],
      "metadata": {
        "id": "0mFUhDzdhhAR"
      }
    },
    {
      "cell_type": "markdown",
      "source": [
        "a couple things we need:\n",
        "\n",
        "0. Loop through the data.\n",
        "\n",
        "1. Forward pass (this involves data moving through our model's `forward()` functions) - also called forward propagation.\n",
        "\n",
        "2. Calculate the loss (compare forward pass predictions to ground truth labels)\n",
        "\n",
        "3. Optimizer zero grad\n",
        "\n",
        "4. Lossbackward - move backward through the network to calculate the gradient of each of our parameters   of or model with respect to  loss. (**backpropagation**)\n",
        "\n",
        "5. Optimizer step - use the optimizer to adjust our model's parameters to try an improve the loss. (**Graidient descent**)"
      ],
      "metadata": {
        "id": "KUQfWmWliT0Z"
      }
    },
    {
      "cell_type": "code",
      "source": [
        "torch.manual_seed(42)\n",
        " # An epoch is one time through thr data... (hyperparameter because we set it ourselves)\n",
        "\n",
        "epochs =100\n",
        "epoch_count = []\n",
        "loss_values = []\n",
        "test_loss_values = []\n",
        "###Training\n",
        " #0.Loop through the data\n",
        "for epoch in range(epochs):\n",
        "  # Set the model to training mode\n",
        "  model_0.train() # train mode in PyTorch set all parameters that requires gradient to require gradients.\n",
        "\n",
        "  # 1. Forward pass\n",
        "  y_pred = model_0(X_train)\n",
        "\n",
        "  # 2. Calculate the loss\n",
        "  loss = loss_fn(y_pred, y_train)\n",
        "  print(loss)\n",
        "  # 3. Optimizer zero grad\n",
        "  optimizer.zero_grad()\n",
        "\n",
        "  # 4. Perform backpropagation on the loss with respect to the parameters of the model\n",
        "  loss.backward()\n",
        "\n",
        "  # 5. Step the optimizer (perform gradient descent)\n",
        "  optimizer.step() # by default how the optimizer changes accumilates, so we have to zero it before the next iteration\n",
        "\n",
        "  ### Testing\n",
        "  model_0.eval() #turns off (dropout, etc,.) different settings in the model not needed for evaluation or testing.\n",
        "  with torch.inference_mode():\n",
        "    # 1. Forward pass\n",
        "    test_pred = model_0(X_test)\n",
        "\n",
        "    # 2. Calculate the loss\n",
        "    test_loss = loss_fn(test_pred, y_test)\n",
        "    epoch_count.append(epoch)\n",
        "    loss_values.append(loss)\n",
        "    test_loss_values.append(test_loss)\n",
        "\n",
        "  print(f\"Epoch: {epoch} | Loss: {loss} | Test loss: {test_loss}\")\n",
        "model_0.state_dict()"
      ],
      "metadata": {
        "colab": {
          "base_uri": "https://localhost:8080/"
        },
        "id": "UTDtdiZChEvk",
        "outputId": "c0dac190-cc14-4525-f720-05393d756f15"
      },
      "execution_count": null,
      "outputs": [
        {
          "output_type": "stream",
          "name": "stdout",
          "text": [
            "tensor(0.1417, grad_fn=<MeanBackward0>)\n",
            "Epoch: 0 | Loss: 0.14169074594974518 | Test loss: 0.3198745846748352\n",
            "tensor(0.1402, grad_fn=<MeanBackward0>)\n",
            "Epoch: 1 | Loss: 0.14016975462436676 | Test loss: 0.3164035975933075\n",
            "tensor(0.1386, grad_fn=<MeanBackward0>)\n",
            "Epoch: 2 | Loss: 0.13864876329898834 | Test loss: 0.3129325807094574\n",
            "tensor(0.1371, grad_fn=<MeanBackward0>)\n",
            "Epoch: 3 | Loss: 0.13712775707244873 | Test loss: 0.3094615936279297\n",
            "tensor(0.1356, grad_fn=<MeanBackward0>)\n",
            "Epoch: 4 | Loss: 0.1356067657470703 | Test loss: 0.305990606546402\n",
            "tensor(0.1341, grad_fn=<MeanBackward0>)\n",
            "Epoch: 5 | Loss: 0.1340857595205307 | Test loss: 0.30251961946487427\n",
            "tensor(0.1326, grad_fn=<MeanBackward0>)\n",
            "Epoch: 6 | Loss: 0.1325647532939911 | Test loss: 0.29904860258102417\n",
            "tensor(0.1310, grad_fn=<MeanBackward0>)\n",
            "Epoch: 7 | Loss: 0.13104376196861267 | Test loss: 0.29557764530181885\n",
            "tensor(0.1295, grad_fn=<MeanBackward0>)\n",
            "Epoch: 8 | Loss: 0.12952277064323425 | Test loss: 0.29210665822029114\n",
            "tensor(0.1280, grad_fn=<MeanBackward0>)\n",
            "Epoch: 9 | Loss: 0.12800176441669464 | Test loss: 0.28863564133644104\n",
            "tensor(0.1265, grad_fn=<MeanBackward0>)\n",
            "Epoch: 10 | Loss: 0.12648078799247742 | Test loss: 0.28516465425491333\n",
            "tensor(0.1250, grad_fn=<MeanBackward0>)\n",
            "Epoch: 11 | Loss: 0.1249597892165184 | Test loss: 0.2816936671733856\n",
            "tensor(0.1234, grad_fn=<MeanBackward0>)\n",
            "Epoch: 12 | Loss: 0.12343879044055939 | Test loss: 0.2782226502895355\n",
            "tensor(0.1219, grad_fn=<MeanBackward0>)\n",
            "Epoch: 13 | Loss: 0.12191778421401978 | Test loss: 0.2747516632080078\n",
            "tensor(0.1204, grad_fn=<MeanBackward0>)\n",
            "Epoch: 14 | Loss: 0.12039679288864136 | Test loss: 0.2712807059288025\n",
            "tensor(0.1189, grad_fn=<MeanBackward0>)\n",
            "Epoch: 15 | Loss: 0.11887578666210175 | Test loss: 0.2678096890449524\n",
            "tensor(0.1174, grad_fn=<MeanBackward0>)\n",
            "Epoch: 16 | Loss: 0.11735481023788452 | Test loss: 0.2643387019634247\n",
            "tensor(0.1158, grad_fn=<MeanBackward0>)\n",
            "Epoch: 17 | Loss: 0.11583380401134491 | Test loss: 0.260867714881897\n",
            "tensor(0.1143, grad_fn=<MeanBackward0>)\n",
            "Epoch: 18 | Loss: 0.1143128052353859 | Test loss: 0.2573966979980469\n",
            "tensor(0.1128, grad_fn=<MeanBackward0>)\n",
            "Epoch: 19 | Loss: 0.11279179900884628 | Test loss: 0.25392571091651917\n",
            "tensor(0.1113, grad_fn=<MeanBackward0>)\n",
            "Epoch: 20 | Loss: 0.11127082258462906 | Test loss: 0.25045472383499146\n",
            "tensor(0.1097, grad_fn=<MeanBackward0>)\n",
            "Epoch: 21 | Loss: 0.10974981635808945 | Test loss: 0.24698369204998016\n",
            "tensor(0.1082, grad_fn=<MeanBackward0>)\n",
            "Epoch: 22 | Loss: 0.10822882503271103 | Test loss: 0.24351274967193604\n",
            "tensor(0.1067, grad_fn=<MeanBackward0>)\n",
            "Epoch: 23 | Loss: 0.10670782625675201 | Test loss: 0.24004173278808594\n",
            "tensor(0.1052, grad_fn=<MeanBackward0>)\n",
            "Epoch: 24 | Loss: 0.1051868200302124 | Test loss: 0.23657076060771942\n",
            "tensor(0.1037, grad_fn=<MeanBackward0>)\n",
            "Epoch: 25 | Loss: 0.10366582870483398 | Test loss: 0.23309974372386932\n",
            "tensor(0.1021, grad_fn=<MeanBackward0>)\n",
            "Epoch: 26 | Loss: 0.10214482247829437 | Test loss: 0.2296288013458252\n",
            "tensor(0.1006, grad_fn=<MeanBackward0>)\n",
            "Epoch: 27 | Loss: 0.10062384605407715 | Test loss: 0.2261577844619751\n",
            "tensor(0.0991, grad_fn=<MeanBackward0>)\n",
            "Epoch: 28 | Loss: 0.09910283982753754 | Test loss: 0.2226867973804474\n",
            "tensor(0.0976, grad_fn=<MeanBackward0>)\n",
            "Epoch: 29 | Loss: 0.09758184850215912 | Test loss: 0.21921579539775848\n",
            "tensor(0.0961, grad_fn=<MeanBackward0>)\n",
            "Epoch: 30 | Loss: 0.0960608422756195 | Test loss: 0.21574480831623077\n",
            "tensor(0.0945, grad_fn=<MeanBackward0>)\n",
            "Epoch: 31 | Loss: 0.09453985095024109 | Test loss: 0.21227383613586426\n",
            "tensor(0.0930, grad_fn=<MeanBackward0>)\n",
            "Epoch: 32 | Loss: 0.09301884472370148 | Test loss: 0.20880281925201416\n",
            "tensor(0.0915, grad_fn=<MeanBackward0>)\n",
            "Epoch: 33 | Loss: 0.09149785339832306 | Test loss: 0.20533180236816406\n",
            "tensor(0.0900, grad_fn=<MeanBackward0>)\n",
            "Epoch: 34 | Loss: 0.08997684717178345 | Test loss: 0.20186081528663635\n",
            "tensor(0.0885, grad_fn=<MeanBackward0>)\n",
            "Epoch: 35 | Loss: 0.08845586329698563 | Test loss: 0.19838984310626984\n",
            "tensor(0.0869, grad_fn=<MeanBackward0>)\n",
            "Epoch: 36 | Loss: 0.08693487197160721 | Test loss: 0.19491884112358093\n",
            "tensor(0.0854, grad_fn=<MeanBackward0>)\n",
            "Epoch: 37 | Loss: 0.0854138731956482 | Test loss: 0.19144785404205322\n",
            "tensor(0.0839, grad_fn=<MeanBackward0>)\n",
            "Epoch: 38 | Loss: 0.08389286696910858 | Test loss: 0.18797685205936432\n",
            "tensor(0.0824, grad_fn=<MeanBackward0>)\n",
            "Epoch: 39 | Loss: 0.08237187564373016 | Test loss: 0.1845058649778366\n",
            "tensor(0.0809, grad_fn=<MeanBackward0>)\n",
            "Epoch: 40 | Loss: 0.08085088431835175 | Test loss: 0.1810348629951477\n",
            "tensor(0.0793, grad_fn=<MeanBackward0>)\n",
            "Epoch: 41 | Loss: 0.07932987809181213 | Test loss: 0.17756387591362\n",
            "tensor(0.0778, grad_fn=<MeanBackward0>)\n",
            "Epoch: 42 | Loss: 0.07780887931585312 | Test loss: 0.17409288883209229\n",
            "tensor(0.0763, grad_fn=<MeanBackward0>)\n",
            "Epoch: 43 | Loss: 0.0762878805398941 | Test loss: 0.17062190175056458\n",
            "tensor(0.0748, grad_fn=<MeanBackward0>)\n",
            "Epoch: 44 | Loss: 0.07476688921451569 | Test loss: 0.16715089976787567\n",
            "tensor(0.0732, grad_fn=<MeanBackward0>)\n",
            "Epoch: 45 | Loss: 0.07324589788913727 | Test loss: 0.16367991268634796\n",
            "tensor(0.0717, grad_fn=<MeanBackward0>)\n",
            "Epoch: 46 | Loss: 0.07172490656375885 | Test loss: 0.16020891070365906\n",
            "tensor(0.0702, grad_fn=<MeanBackward0>)\n",
            "Epoch: 47 | Loss: 0.07020390778779984 | Test loss: 0.15673793852329254\n",
            "tensor(0.0687, grad_fn=<MeanBackward0>)\n",
            "Epoch: 48 | Loss: 0.06868290901184082 | Test loss: 0.15326693654060364\n",
            "tensor(0.0672, grad_fn=<MeanBackward0>)\n",
            "Epoch: 49 | Loss: 0.06716190278530121 | Test loss: 0.14979593455791473\n",
            "tensor(0.0656, grad_fn=<MeanBackward0>)\n",
            "Epoch: 50 | Loss: 0.06564091145992279 | Test loss: 0.14632496237754822\n",
            "tensor(0.0641, grad_fn=<MeanBackward0>)\n",
            "Epoch: 51 | Loss: 0.06411992013454437 | Test loss: 0.14285394549369812\n",
            "tensor(0.0626, grad_fn=<MeanBackward0>)\n",
            "Epoch: 52 | Loss: 0.06259892135858536 | Test loss: 0.1393829733133316\n",
            "tensor(0.0611, grad_fn=<MeanBackward0>)\n",
            "Epoch: 53 | Loss: 0.06107792258262634 | Test loss: 0.1359119713306427\n",
            "tensor(0.0596, grad_fn=<MeanBackward0>)\n",
            "Epoch: 54 | Loss: 0.05955692008137703 | Test loss: 0.132440984249115\n",
            "tensor(0.0580, grad_fn=<MeanBackward0>)\n",
            "Epoch: 55 | Loss: 0.058035921305418015 | Test loss: 0.1289699822664261\n",
            "tensor(0.0565, grad_fn=<MeanBackward0>)\n",
            "Epoch: 56 | Loss: 0.0565149299800396 | Test loss: 0.12549899518489838\n",
            "tensor(0.0550, grad_fn=<MeanBackward0>)\n",
            "Epoch: 57 | Loss: 0.05499393865466118 | Test loss: 0.12202801555395126\n",
            "tensor(0.0535, grad_fn=<MeanBackward0>)\n",
            "Epoch: 58 | Loss: 0.053472936153411865 | Test loss: 0.11855699867010117\n",
            "tensor(0.0520, grad_fn=<MeanBackward0>)\n",
            "Epoch: 59 | Loss: 0.05195193737745285 | Test loss: 0.11508603394031525\n",
            "tensor(0.0504, grad_fn=<MeanBackward0>)\n",
            "Epoch: 60 | Loss: 0.050430942326784134 | Test loss: 0.11161501705646515\n",
            "tensor(0.0489, grad_fn=<MeanBackward0>)\n",
            "Epoch: 61 | Loss: 0.04890994727611542 | Test loss: 0.10814404487609863\n",
            "tensor(0.0474, grad_fn=<MeanBackward0>)\n",
            "Epoch: 62 | Loss: 0.047388944774866104 | Test loss: 0.10467305034399033\n",
            "tensor(0.0459, grad_fn=<MeanBackward0>)\n",
            "Epoch: 63 | Loss: 0.045867957174777985 | Test loss: 0.10120205581188202\n",
            "tensor(0.0443, grad_fn=<MeanBackward0>)\n",
            "Epoch: 64 | Loss: 0.04434696584939957 | Test loss: 0.09773106873035431\n",
            "tensor(0.0428, grad_fn=<MeanBackward0>)\n",
            "Epoch: 65 | Loss: 0.042825959622859955 | Test loss: 0.09426005929708481\n",
            "tensor(0.0413, grad_fn=<MeanBackward0>)\n",
            "Epoch: 66 | Loss: 0.04130496457219124 | Test loss: 0.0907890647649765\n",
            "tensor(0.0398, grad_fn=<MeanBackward0>)\n",
            "Epoch: 67 | Loss: 0.039783965796232224 | Test loss: 0.08731807768344879\n",
            "tensor(0.0383, grad_fn=<MeanBackward0>)\n",
            "Epoch: 68 | Loss: 0.03826297074556351 | Test loss: 0.08384708315134048\n",
            "tensor(0.0367, grad_fn=<MeanBackward0>)\n",
            "Epoch: 69 | Loss: 0.03674197942018509 | Test loss: 0.08037610352039337\n",
            "tensor(0.0352, grad_fn=<MeanBackward0>)\n",
            "Epoch: 70 | Loss: 0.035220976918935776 | Test loss: 0.07690508663654327\n",
            "tensor(0.0337, grad_fn=<MeanBackward0>)\n",
            "Epoch: 71 | Loss: 0.03369998186826706 | Test loss: 0.07343412190675735\n",
            "tensor(0.0322, grad_fn=<MeanBackward0>)\n",
            "Epoch: 72 | Loss: 0.03217898681759834 | Test loss: 0.06996311247348785\n",
            "tensor(0.0307, grad_fn=<MeanBackward0>)\n",
            "Epoch: 73 | Loss: 0.030657991766929626 | Test loss: 0.06649212539196014\n",
            "tensor(0.0291, grad_fn=<MeanBackward0>)\n",
            "Epoch: 74 | Loss: 0.02913699485361576 | Test loss: 0.06302112340927124\n",
            "tensor(0.0276, grad_fn=<MeanBackward0>)\n",
            "Epoch: 75 | Loss: 0.027615997940301895 | Test loss: 0.05955012887716293\n",
            "tensor(0.0261, grad_fn=<MeanBackward0>)\n",
            "Epoch: 76 | Loss: 0.02609499730169773 | Test loss: 0.05607915669679642\n",
            "tensor(0.0246, grad_fn=<MeanBackward0>)\n",
            "Epoch: 77 | Loss: 0.024574004113674164 | Test loss: 0.052608150988817215\n",
            "tensor(0.0231, grad_fn=<MeanBackward0>)\n",
            "Epoch: 78 | Loss: 0.023053007200360298 | Test loss: 0.04913715645670891\n",
            "tensor(0.0215, grad_fn=<MeanBackward0>)\n",
            "Epoch: 79 | Loss: 0.021532006561756134 | Test loss: 0.0456661656498909\n",
            "tensor(0.0200, grad_fn=<MeanBackward0>)\n",
            "Epoch: 80 | Loss: 0.02001100964844227 | Test loss: 0.04219517856836319\n",
            "tensor(0.0185, grad_fn=<MeanBackward0>)\n",
            "Epoch: 81 | Loss: 0.0184900164604187 | Test loss: 0.03872418403625488\n",
            "tensor(0.0170, grad_fn=<MeanBackward0>)\n",
            "Epoch: 82 | Loss: 0.016969019547104836 | Test loss: 0.03525319695472717\n",
            "tensor(0.0154, grad_fn=<MeanBackward0>)\n",
            "Epoch: 83 | Loss: 0.015448023565113544 | Test loss: 0.03178219869732857\n",
            "tensor(0.0139, grad_fn=<MeanBackward0>)\n",
            "Epoch: 84 | Loss: 0.013927027583122253 | Test loss: 0.028311211615800858\n",
            "tensor(0.0124, grad_fn=<MeanBackward0>)\n",
            "Epoch: 85 | Loss: 0.012406027875840664 | Test loss: 0.02484021708369255\n",
            "tensor(0.0109, grad_fn=<MeanBackward0>)\n",
            "Epoch: 86 | Loss: 0.010885031893849373 | Test loss: 0.021369213238358498\n",
            "tensor(0.0094, grad_fn=<MeanBackward0>)\n",
            "Epoch: 87 | Loss: 0.009364035911858082 | Test loss: 0.017898226156830788\n",
            "tensor(0.0078, grad_fn=<MeanBackward0>)\n",
            "Epoch: 88 | Loss: 0.007843038998544216 | Test loss: 0.014427239075303078\n",
            "tensor(0.0063, grad_fn=<MeanBackward0>)\n",
            "Epoch: 89 | Loss: 0.006322044879198074 | Test loss: 0.010956233367323875\n",
            "tensor(0.0048, grad_fn=<MeanBackward0>)\n",
            "Epoch: 90 | Loss: 0.004801043774932623 | Test loss: 0.007485252805054188\n",
            "tensor(0.0033, grad_fn=<MeanBackward0>)\n",
            "Epoch: 91 | Loss: 0.003280050354078412 | Test loss: 0.004014253616333008\n",
            "tensor(0.0018, grad_fn=<MeanBackward0>)\n",
            "Epoch: 92 | Loss: 0.0017590515781193972 | Test loss: 0.000543272471986711\n",
            "tensor(0.0002, grad_fn=<MeanBackward0>)\n",
            "Epoch: 93 | Loss: 0.000238058710237965 | Test loss: 0.002927726600319147\n",
            "tensor(0.0013, grad_fn=<MeanBackward0>)\n",
            "Epoch: 94 | Loss: 0.0012829385232180357 | Test loss: 0.000543272471986711\n",
            "tensor(0.0002, grad_fn=<MeanBackward0>)\n",
            "Epoch: 95 | Loss: 0.000238058710237965 | Test loss: 0.002927726600319147\n",
            "tensor(0.0013, grad_fn=<MeanBackward0>)\n",
            "Epoch: 96 | Loss: 0.0012829385232180357 | Test loss: 0.000543272471986711\n",
            "tensor(0.0002, grad_fn=<MeanBackward0>)\n",
            "Epoch: 97 | Loss: 0.000238058710237965 | Test loss: 0.002927726600319147\n",
            "tensor(0.0013, grad_fn=<MeanBackward0>)\n",
            "Epoch: 98 | Loss: 0.0012829385232180357 | Test loss: 0.000543272471986711\n",
            "tensor(0.0002, grad_fn=<MeanBackward0>)\n",
            "Epoch: 99 | Loss: 0.000238058710237965 | Test loss: 0.002927726600319147\n"
          ]
        },
        {
          "output_type": "execute_result",
          "data": {
            "text/plain": [
              "OrderedDict([('weights', tensor([0.7033])), ('bias', tensor([0.1288]))])"
            ]
          },
          "metadata": {},
          "execution_count": 358
        }
      ]
    },
    {
      "cell_type": "code",
      "source": [
        "import numpy as np\n",
        "plt.plot(epoch_count, np.array(torch.tensor(loss_values).cpu().numpy()), label = \"Train loss\")\n",
        "plt.plot(epoch_count, test_loss_values, label=\"Test loss\")\n",
        "plt.title(\"Training and test loss curve\")\n",
        "plt.ylabel(\"Loss\")\n",
        "plt.xlabel(\"Epoch\")"
      ],
      "metadata": {
        "colab": {
          "base_uri": "https://localhost:8080/",
          "height": 490
        },
        "id": "hdtJ3KAYIHnT",
        "outputId": "5314d750-404f-4872-e8a5-5c280c26aac2"
      },
      "execution_count": null,
      "outputs": [
        {
          "output_type": "execute_result",
          "data": {
            "text/plain": [
              "Text(0.5, 0, 'Epoch')"
            ]
          },
          "metadata": {},
          "execution_count": 359
        },
        {
          "output_type": "display_data",
          "data": {
            "text/plain": [
              "<Figure size 640x480 with 1 Axes>"
            ],
            "image/png": "[encoded data removed]"
          },
          "metadata": {}
        }
      ]
    },
    {
      "cell_type": "code",
      "source": [
        "model_0.state_dict()"
      ],
      "metadata": {
        "colab": {
          "base_uri": "https://localhost:8080/"
        },
        "id": "l82GHdITk1wt",
        "outputId": "c00f7711-4b14-4920-e837-fa58a54df426"
      },
      "execution_count": null,
      "outputs": [
        {
          "output_type": "execute_result",
          "data": {
            "text/plain": [
              "OrderedDict([('weights', tensor([0.7033])), ('bias', tensor([0.1288]))])"
            ]
          },
          "metadata": {},
          "execution_count": 360
        }
      ]
    },
    {
      "cell_type": "code",
      "source": [
        "model_0.state_dict()"
      ],
      "metadata": {
        "colab": {
          "base_uri": "https://localhost:8080/"
        },
        "id": "M9Yh22b8r9h6",
        "outputId": "a086dd04-1981-43a5-8fba-6f8c8a3300bf"
      },
      "execution_count": null,
      "outputs": [
        {
          "output_type": "execute_result",
          "data": {
            "text/plain": [
              "OrderedDict([('weights', tensor([0.7033])), ('bias', tensor([0.1288]))])"
            ]
          },
          "metadata": {},
          "execution_count": 361
        }
      ]
    },
    {
      "cell_type": "code",
      "source": [
        "with torch.inference_mode():\n",
        "  y_preds_new = model_0(X_test)"
      ],
      "metadata": {
        "id": "94F5j2TGr_MA"
      },
      "execution_count": null,
      "outputs": []
    },
    {
      "cell_type": "code",
      "source": [
        "model_0.state_dict()"
      ],
      "metadata": {
        "colab": {
          "base_uri": "https://localhost:8080/"
        },
        "id": "LU6o6AstsnCg",
        "outputId": "27962644-74aa-4894-882f-edae3c0a702b"
      },
      "execution_count": null,
      "outputs": [
        {
          "output_type": "execute_result",
          "data": {
            "text/plain": [
              "OrderedDict([('weights', tensor([0.7033])), ('bias', tensor([0.1288]))])"
            ]
          },
          "metadata": {},
          "execution_count": 363
        }
      ]
    },
    {
      "cell_type": "code",
      "source": [
        "weight, bias"
      ],
      "metadata": {
        "colab": {
          "base_uri": "https://localhost:8080/"
        },
        "id": "2G1xS-aBs47G",
        "outputId": "8fc0ee55-839b-4649-844d-1924eaea0b90"
      },
      "execution_count": null,
      "outputs": [
        {
          "output_type": "execute_result",
          "data": {
            "text/plain": [
              "(0.7, 0.3)"
            ]
          },
          "metadata": {},
          "execution_count": 364
        }
      ]
    },
    {
      "cell_type": "code",
      "source": [
        "plot_predictions(predictions = y_preds);"
      ],
      "metadata": {
        "colab": {
          "base_uri": "https://localhost:8080/",
          "height": 540
        },
        "id": "unz5iAfds6bS",
        "outputId": "844435a0-8de9-47ad-b5ef-6b0ed32493eb"
      },
      "execution_count": null,
      "outputs": [
        {
          "output_type": "display_data",
          "data": {
            "text/plain": [
              "<Figure size 1000x700 with 1 Axes>"
            ],
            "image/png": "[encoded data removed]"
          },
          "metadata": {}
        }
      ]
    },
    {
      "cell_type": "code",
      "source": [
        "plot_predictions(predictions = y_preds_new);"
      ],
      "metadata": {
        "colab": {
          "base_uri": "https://localhost:8080/",
          "height": 540
        },
        "id": "Asx6qsi2tDuX",
        "outputId": "b33d1c3a-07b2-45a0-fd7c-08775ac965ff"
      },
      "execution_count": null,
      "outputs": [
        {
          "output_type": "display_data",
          "data": {
            "text/plain": [
              "<Figure size 1000x700 with 1 Axes>"
            ],
            "image/png": "[encoded data removed]"
          },
          "metadata": {}
        }
      ]
    },
    {
      "cell_type": "code",
      "source": [
        "epoch_count, loss_values"
      ],
      "metadata": {
        "colab": {
          "base_uri": "https://localhost:8080/"
        },
        "id": "ZughcFGstN3z",
        "outputId": "3e57b05a-0612-4c0a-d2f5-6b84b7bd79c8"
      },
      "execution_count": null,
      "outputs": [
        {
          "output_type": "execute_result",
          "data": {
            "text/plain": [
              "([0,\n",
              "  1,\n",
              "  2,\n",
              "  3,\n",
              "  4,\n",
              "  5,\n",
              "  6,\n",
              "  7,\n",
              "  8,\n",
              "  9,\n",
              "  10,\n",
              "  11,\n",
              "  12,\n",
              "  13,\n",
              "  14,\n",
              "  15,\n",
              "  16,\n",
              "  17,\n",
              "  18,\n",
              "  19,\n",
              "  20,\n",
              "  21,\n",
              "  22,\n",
              "  23,\n",
              "  24,\n",
              "  25,\n",
              "  26,\n",
              "  27,\n",
              "  28,\n",
              "  29,\n",
              "  30,\n",
              "  31,\n",
              "  32,\n",
              "  33,\n",
              "  34,\n",
              "  35,\n",
              "  36,\n",
              "  37,\n",
              "  38,\n",
              "  39,\n",
              "  40,\n",
              "  41,\n",
              "  42,\n",
              "  43,\n",
              "  44,\n",
              "  45,\n",
              "  46,\n",
              "  47,\n",
              "  48,\n",
              "  49,\n",
              "  50,\n",
              "  51,\n",
              "  52,\n",
              "  53,\n",
              "  54,\n",
              "  55,\n",
              "  56,\n",
              "  57,\n",
              "  58,\n",
              "  59,\n",
              "  60,\n",
              "  61,\n",
              "  62,\n",
              "  63,\n",
              "  64,\n",
              "  65,\n",
              "  66,\n",
              "  67,\n",
              "  68,\n",
              "  69,\n",
              "  70,\n",
              "  71,\n",
              "  72,\n",
              "  73,\n",
              "  74,\n",
              "  75,\n",
              "  76,\n",
              "  77,\n",
              "  78,\n",
              "  79,\n",
              "  80,\n",
              "  81,\n",
              "  82,\n",
              "  83,\n",
              "  84,\n",
              "  85,\n",
              "  86,\n",
              "  87,\n",
              "  88,\n",
              "  89,\n",
              "  90,\n",
              "  91,\n",
              "  92,\n",
              "  93,\n",
              "  94,\n",
              "  95,\n",
              "  96,\n",
              "  97,\n",
              "  98,\n",
              "  99],\n",
              " [tensor(0.1417, grad_fn=<MeanBackward0>),\n",
              "  tensor(0.1402, grad_fn=<MeanBackward0>),\n",
              "  tensor(0.1386, grad_fn=<MeanBackward0>),\n",
              "  tensor(0.1371, grad_fn=<MeanBackward0>),\n",
              "  tensor(0.1356, grad_fn=<MeanBackward0>),\n",
              "  tensor(0.1341, grad_fn=<MeanBackward0>),\n",
              "  tensor(0.1326, grad_fn=<MeanBackward0>),\n",
              "  tensor(0.1310, grad_fn=<MeanBackward0>),\n",
              "  tensor(0.1295, grad_fn=<MeanBackward0>),\n",
              "  tensor(0.1280, grad_fn=<MeanBackward0>),\n",
              "  tensor(0.1265, grad_fn=<MeanBackward0>),\n",
              "  tensor(0.1250, grad_fn=<MeanBackward0>),\n",
              "  tensor(0.1234, grad_fn=<MeanBackward0>),\n",
              "  tensor(0.1219, grad_fn=<MeanBackward0>),\n",
              "  tensor(0.1204, grad_fn=<MeanBackward0>),\n",
              "  tensor(0.1189, grad_fn=<MeanBackward0>),\n",
              "  tensor(0.1174, grad_fn=<MeanBackward0>),\n",
              "  tensor(0.1158, grad_fn=<MeanBackward0>),\n",
              "  tensor(0.1143, grad_fn=<MeanBackward0>),\n",
              "  tensor(0.1128, grad_fn=<MeanBackward0>),\n",
              "  tensor(0.1113, grad_fn=<MeanBackward0>),\n",
              "  tensor(0.1097, grad_fn=<MeanBackward0>),\n",
              "  tensor(0.1082, grad_fn=<MeanBackward0>),\n",
              "  tensor(0.1067, grad_fn=<MeanBackward0>),\n",
              "  tensor(0.1052, grad_fn=<MeanBackward0>),\n",
              "  tensor(0.1037, grad_fn=<MeanBackward0>),\n",
              "  tensor(0.1021, grad_fn=<MeanBackward0>),\n",
              "  tensor(0.1006, grad_fn=<MeanBackward0>),\n",
              "  tensor(0.0991, grad_fn=<MeanBackward0>),\n",
              "  tensor(0.0976, grad_fn=<MeanBackward0>),\n",
              "  tensor(0.0961, grad_fn=<MeanBackward0>),\n",
              "  tensor(0.0945, grad_fn=<MeanBackward0>),\n",
              "  tensor(0.0930, grad_fn=<MeanBackward0>),\n",
              "  tensor(0.0915, grad_fn=<MeanBackward0>),\n",
              "  tensor(0.0900, grad_fn=<MeanBackward0>),\n",
              "  tensor(0.0885, grad_fn=<MeanBackward0>),\n",
              "  tensor(0.0869, grad_fn=<MeanBackward0>),\n",
              "  tensor(0.0854, grad_fn=<MeanBackward0>),\n",
              "  tensor(0.0839, grad_fn=<MeanBackward0>),\n",
              "  tensor(0.0824, grad_fn=<MeanBackward0>),\n",
              "  tensor(0.0809, grad_fn=<MeanBackward0>),\n",
              "  tensor(0.0793, grad_fn=<MeanBackward0>),\n",
              "  tensor(0.0778, grad_fn=<MeanBackward0>),\n",
              "  tensor(0.0763, grad_fn=<MeanBackward0>),\n",
              "  tensor(0.0748, grad_fn=<MeanBackward0>),\n",
              "  tensor(0.0732, grad_fn=<MeanBackward0>),\n",
              "  tensor(0.0717, grad_fn=<MeanBackward0>),\n",
              "  tensor(0.0702, grad_fn=<MeanBackward0>),\n",
              "  tensor(0.0687, grad_fn=<MeanBackward0>),\n",
              "  tensor(0.0672, grad_fn=<MeanBackward0>),\n",
              "  tensor(0.0656, grad_fn=<MeanBackward0>),\n",
              "  tensor(0.0641, grad_fn=<MeanBackward0>),\n",
              "  tensor(0.0626, grad_fn=<MeanBackward0>),\n",
              "  tensor(0.0611, grad_fn=<MeanBackward0>),\n",
              "  tensor(0.0596, grad_fn=<MeanBackward0>),\n",
              "  tensor(0.0580, grad_fn=<MeanBackward0>),\n",
              "  tensor(0.0565, grad_fn=<MeanBackward0>),\n",
              "  tensor(0.0550, grad_fn=<MeanBackward0>),\n",
              "  tensor(0.0535, grad_fn=<MeanBackward0>),\n",
              "  tensor(0.0520, grad_fn=<MeanBackward0>),\n",
              "  tensor(0.0504, grad_fn=<MeanBackward0>),\n",
              "  tensor(0.0489, grad_fn=<MeanBackward0>),\n",
              "  tensor(0.0474, grad_fn=<MeanBackward0>),\n",
              "  tensor(0.0459, grad_fn=<MeanBackward0>),\n",
              "  tensor(0.0443, grad_fn=<MeanBackward0>),\n",
              "  tensor(0.0428, grad_fn=<MeanBackward0>),\n",
              "  tensor(0.0413, grad_fn=<MeanBackward0>),\n",
              "  tensor(0.0398, grad_fn=<MeanBackward0>),\n",
              "  tensor(0.0383, grad_fn=<MeanBackward0>),\n",
              "  tensor(0.0367, grad_fn=<MeanBackward0>),\n",
              "  tensor(0.0352, grad_fn=<MeanBackward0>),\n",
              "  tensor(0.0337, grad_fn=<MeanBackward0>),\n",
              "  tensor(0.0322, grad_fn=<MeanBackward0>),\n",
              "  tensor(0.0307, grad_fn=<MeanBackward0>),\n",
              "  tensor(0.0291, grad_fn=<MeanBackward0>),\n",
              "  tensor(0.0276, grad_fn=<MeanBackward0>),\n",
              "  tensor(0.0261, grad_fn=<MeanBackward0>),\n",
              "  tensor(0.0246, grad_fn=<MeanBackward0>),\n",
              "  tensor(0.0231, grad_fn=<MeanBackward0>),\n",
              "  tensor(0.0215, grad_fn=<MeanBackward0>),\n",
              "  tensor(0.0200, grad_fn=<MeanBackward0>),\n",
              "  tensor(0.0185, grad_fn=<MeanBackward0>),\n",
              "  tensor(0.0170, grad_fn=<MeanBackward0>),\n",
              "  tensor(0.0154, grad_fn=<MeanBackward0>),\n",
              "  tensor(0.0139, grad_fn=<MeanBackward0>),\n",
              "  tensor(0.0124, grad_fn=<MeanBackward0>),\n",
              "  tensor(0.0109, grad_fn=<MeanBackward0>),\n",
              "  tensor(0.0094, grad_fn=<MeanBackward0>),\n",
              "  tensor(0.0078, grad_fn=<MeanBackward0>),\n",
              "  tensor(0.0063, grad_fn=<MeanBackward0>),\n",
              "  tensor(0.0048, grad_fn=<MeanBackward0>),\n",
              "  tensor(0.0033, grad_fn=<MeanBackward0>),\n",
              "  tensor(0.0018, grad_fn=<MeanBackward0>),\n",
              "  tensor(0.0002, grad_fn=<MeanBackward0>),\n",
              "  tensor(0.0013, grad_fn=<MeanBackward0>),\n",
              "  tensor(0.0002, grad_fn=<MeanBackward0>),\n",
              "  tensor(0.0013, grad_fn=<MeanBackward0>),\n",
              "  tensor(0.0002, grad_fn=<MeanBackward0>),\n",
              "  tensor(0.0013, grad_fn=<MeanBackward0>),\n",
              "  tensor(0.0002, grad_fn=<MeanBackward0>)])"
            ]
          },
          "metadata": {},
          "execution_count": 367
        }
      ]
    },
    {
      "cell_type": "markdown",
      "source": [
        "####Saving a model in PyTorch\n",
        "\n",
        "Three main methods for saving and loading.\n",
        "\n",
        "1. `torch.save()`- Saves model in python pkl format.\n",
        "\n",
        "2. `torch.load()`- Load a saved ojest\n",
        "\n",
        "3. `torch.nn.Module.load_state_dict()`- This allows you ot load a model's saved state dictionary."
      ],
      "metadata": {
        "id": "4SEHSvihFt7v"
      }
    },
    {
      "cell_type": "code",
      "source": [
        "model_0.state_dict()"
      ],
      "metadata": {
        "colab": {
          "base_uri": "https://localhost:8080/"
        },
        "id": "2ltKAppBRcDM",
        "outputId": "6b764ed5-00ac-4010-d415-c70977cdadbb"
      },
      "execution_count": null,
      "outputs": [
        {
          "output_type": "execute_result",
          "data": {
            "text/plain": [
              "OrderedDict([('weights', tensor([0.7033])), ('bias', tensor([0.1288]))])"
            ]
          },
          "metadata": {},
          "execution_count": 368
        }
      ]
    },
    {
      "cell_type": "code",
      "source": [
        "#Savign our PyTorch model\n",
        "\n",
        "from pathlib import Path\n",
        "\n",
        "#1. Create model directiory\n",
        "MODEL_PATH = Path(\"models\")\n",
        "MODEL_PATH.mkdir(parents=True, exist_ok=True)\n",
        "\n",
        "#2. Create model save path\n",
        "MODEL_NAME = \"01_PyTorch_workflow_model_0.pth\"\n",
        "MODEL_SAVE_PATH = MODEL_PATH / MODEL_NAME\n",
        "\n",
        "#3. Save the model state dict\n",
        "print(f\"Saving model to: {MODEL_SAVE_PATH}\")\n",
        "torch.save(obj=model_0.state_dict(),\n",
        "           f=MODEL_SAVE_PATH)"
      ],
      "metadata": {
        "colab": {
          "base_uri": "https://localhost:8080/"
        },
        "id": "tiP5j0TZSBR5",
        "outputId": "1a2584dc-58aa-43e9-8a5a-5872157af33a"
      },
      "execution_count": null,
      "outputs": [
        {
          "output_type": "stream",
          "name": "stdout",
          "text": [
            "Saving model to: models/01_PyTorch_workflow_model_0.pth\n"
          ]
        }
      ]
    },
    {
      "cell_type": "code",
      "source": [
        "!ls -l models"
      ],
      "metadata": {
        "colab": {
          "base_uri": "https://localhost:8080/"
        },
        "id": "IWS3E0zUTPg3",
        "outputId": "f8ba4cb0-659a-4890-8778-f4dfb9865429"
      },
      "execution_count": null,
      "outputs": [
        {
          "output_type": "stream",
          "name": "stdout",
          "text": [
            "total 4\n",
            "-rw-r--r-- 1 root root 1680 Mar 19 18:22 01_PyTorch_workflow_model_0.pth\n"
          ]
        }
      ]
    },
    {
      "cell_type": "code",
      "source": [
        "##Loading a PyTorch Model\n",
        "\n",
        "#To load in a saved state_dict we have to instantiate a new instance of our model class\n",
        "loaded_model_0 = LinearRegressionModel()\n",
        "\n",
        "#Load the saved state_dict of model_0\n",
        "loaded_model_0.load_state_dict(torch.load(f=MODEL_SAVE_PATH))"
      ],
      "metadata": {
        "colab": {
          "base_uri": "https://localhost:8080/"
        },
        "id": "_vTZS0LDUYYp",
        "outputId": "5edbeb57-a8a6-479e-94a6-f85c16e3609f"
      },
      "execution_count": null,
      "outputs": [
        {
          "output_type": "execute_result",
          "data": {
            "text/plain": [
              "<All keys matched successfully>"
            ]
          },
          "metadata": {},
          "execution_count": 371
        }
      ]
    },
    {
      "cell_type": "code",
      "source": [
        "loaded_model_0.state_dict()"
      ],
      "metadata": {
        "colab": {
          "base_uri": "https://localhost:8080/"
        },
        "id": "JM-FtnkccPEq",
        "outputId": "76486e89-f48d-409e-89ba-c1e043f392e3"
      },
      "execution_count": null,
      "outputs": [
        {
          "output_type": "execute_result",
          "data": {
            "text/plain": [
              "OrderedDict([('weights', tensor([0.7033])), ('bias', tensor([0.1288]))])"
            ]
          },
          "metadata": {},
          "execution_count": 372
        }
      ]
    },
    {
      "cell_type": "code",
      "source": [
        "# Make some preditions\n",
        "loaded_model_0.eval()\n",
        "with torch.inference_mode():\n",
        "  loaded_model_preds = loaded_model_0(X_test)\n",
        "\n",
        "loaded_model_preds"
      ],
      "metadata": {
        "colab": {
          "base_uri": "https://localhost:8080/"
        },
        "id": "BNWEjZ9fcYRi",
        "outputId": "c348190e-203f-4cf1-9097-9cdc504b06c9"
      },
      "execution_count": null,
      "outputs": [
        {
          "output_type": "execute_result",
          "data": {
            "text/plain": [
              "tensor([[0.8626],\n",
              "        [0.8767],\n",
              "        [0.8908],\n",
              "        [0.9048],\n",
              "        [0.9189],\n",
              "        [0.9330],\n",
              "        [0.9470],\n",
              "        [0.9611],\n",
              "        [0.9752],\n",
              "        [0.9892]])"
            ]
          },
          "metadata": {},
          "execution_count": 373
        }
      ]
    },
    {
      "cell_type": "code",
      "source": [
        "# Compare loaded model preds with original model preds\n",
        "y_preds == loaded_model_preds"
      ],
      "metadata": {
        "colab": {
          "base_uri": "https://localhost:8080/"
        },
        "id": "Sg-EOGX1cwgl",
        "outputId": "9dbe279f-8c31-4165-a765-81ffa3332ad8"
      },
      "execution_count": null,
      "outputs": [
        {
          "output_type": "execute_result",
          "data": {
            "text/plain": [
              "tensor([[False],\n",
              "        [False],\n",
              "        [False],\n",
              "        [False],\n",
              "        [False],\n",
              "        [False],\n",
              "        [False],\n",
              "        [False],\n",
              "        [False],\n",
              "        [False]])"
            ]
          },
          "metadata": {},
          "execution_count": 374
        }
      ]
    },
    {
      "cell_type": "code",
      "source": [
        "#Make some model preds\n",
        "model_0.eval()\n",
        "with torch.inference_mode():\n",
        "  y_preds = model_0(X_test)\n",
        "\n",
        "y_preds"
      ],
      "metadata": {
        "colab": {
          "base_uri": "https://localhost:8080/"
        },
        "id": "NoJIuTA_c_qy",
        "outputId": "7b8d27e9-65ea-43e8-fbff-31bd92acbe8e"
      },
      "execution_count": null,
      "outputs": [
        {
          "output_type": "execute_result",
          "data": {
            "text/plain": [
              "tensor([[0.8626],\n",
              "        [0.8767],\n",
              "        [0.8908],\n",
              "        [0.9048],\n",
              "        [0.9189],\n",
              "        [0.9330],\n",
              "        [0.9470],\n",
              "        [0.9611],\n",
              "        [0.9752],\n",
              "        [0.9892]])"
            ]
          },
          "metadata": {},
          "execution_count": 375
        }
      ]
    },
    {
      "cell_type": "code",
      "source": [
        "# Compare loaded model preds with original model preds\n",
        "y_preds == loaded_model_preds"
      ],
      "metadata": {
        "colab": {
          "base_uri": "https://localhost:8080/"
        },
        "id": "86rekj58dYBC",
        "outputId": "706245ea-f646-402f-83da-b19b1b59a1b0"
      },
      "execution_count": null,
      "outputs": [
        {
          "output_type": "execute_result",
          "data": {
            "text/plain": [
              "tensor([[True],\n",
              "        [True],\n",
              "        [True],\n",
              "        [True],\n",
              "        [True],\n",
              "        [True],\n",
              "        [True],\n",
              "        [True],\n",
              "        [True],\n",
              "        [True]])"
            ]
          },
          "metadata": {},
          "execution_count": 376
        }
      ]
    },
    {
      "cell_type": "markdown",
      "source": [
        "###**Puting everything together.**"
      ],
      "metadata": {
        "id": "0pvdingif-Wl"
      }
    },
    {
      "cell_type": "code",
      "source": [
        "## Import PyTorch and matplotlib\n",
        "import torch\n",
        "from torch import nn\n",
        "import matplotlib.pyplot as plt\n"
      ],
      "metadata": {
        "id": "eQKLJL3edcEC"
      },
      "execution_count": null,
      "outputs": []
    },
    {
      "cell_type": "markdown",
      "source": [
        "Create device-agnostic code.\n",
        "\n",
        "This means if we have access to a gpu, our code will use it (for potentially faster computing).\n",
        "\n",
        "If no  GPU code defaults to using CPU."
      ],
      "metadata": {
        "id": "CPeiHojPfR3P"
      }
    },
    {
      "cell_type": "code",
      "source": [
        "#Setup device-agonostic code\n",
        "device = \"cuda\" if torch.cuda.is_available() else \"cpu\"\n",
        "print(f\"Using device: {device}\")"
      ],
      "metadata": {
        "colab": {
          "base_uri": "https://localhost:8080/"
        },
        "id": "IXJSCIYxfjiO",
        "outputId": "df0112a0-1ec8-4cab-e60e-63459f90da66"
      },
      "execution_count": null,
      "outputs": [
        {
          "output_type": "stream",
          "name": "stdout",
          "text": [
            "Using device: cpu\n"
          ]
        }
      ]
    },
    {
      "cell_type": "markdown",
      "source": [
        "###Data"
      ],
      "metadata": {
        "id": "glY-QbzkfyeH"
      }
    },
    {
      "cell_type": "code",
      "source": [
        "# Create data using Linear regression formula using y=a + bX , y= weight * X + bias\n",
        "weight = 0.7\n",
        "bias = 0.3\n",
        "\n",
        "#Create range values\n",
        "start = 0\n",
        "end = 1\n",
        "step = 0.02\n",
        "\n",
        "#Create X and y (features)\n",
        "X = torch.arange(start,end,step).unsqueeze(dim=1)\n",
        "y = weight * X + bias\n",
        "X[:10], y[:10]"
      ],
      "metadata": {
        "colab": {
          "base_uri": "https://localhost:8080/"
        },
        "id": "tQEtdKApf6Wo",
        "outputId": "79dd4beb-cb8c-4f21-9f9b-931bf65c8492"
      },
      "execution_count": null,
      "outputs": [
        {
          "output_type": "execute_result",
          "data": {
            "text/plain": [
              "(tensor([[0.0000],\n",
              "         [0.0200],\n",
              "         [0.0400],\n",
              "         [0.0600],\n",
              "         [0.0800],\n",
              "         [0.1000],\n",
              "         [0.1200],\n",
              "         [0.1400],\n",
              "         [0.1600],\n",
              "         [0.1800]]),\n",
              " tensor([[0.3000],\n",
              "         [0.3140],\n",
              "         [0.3280],\n",
              "         [0.3420],\n",
              "         [0.3560],\n",
              "         [0.3700],\n",
              "         [0.3840],\n",
              "         [0.3980],\n",
              "         [0.4120],\n",
              "         [0.4260]]))"
            ]
          },
          "metadata": {},
          "execution_count": 379
        }
      ]
    },
    {
      "cell_type": "code",
      "source": [
        "#Split data\n",
        "train_split = int(0.8 * len(X))\n",
        "X_train, y_train = X[:train_split], y[:train_split]\n",
        "X_test, y_test = X[train_split:], y[train_split:]\n",
        "len(X_train), len(y_train), len(X_test), len(y_test)"
      ],
      "metadata": {
        "colab": {
          "base_uri": "https://localhost:8080/"
        },
        "id": "lIUIugIbg36c",
        "outputId": "5c0fe737-c0fc-4e45-9b7f-43f56684cbe3"
      },
      "execution_count": null,
      "outputs": [
        {
          "output_type": "execute_result",
          "data": {
            "text/plain": [
              "(40, 40, 10, 10)"
            ]
          },
          "metadata": {},
          "execution_count": 380
        }
      ]
    },
    {
      "cell_type": "code",
      "source": [
        "# Plot data\n",
        "#Note: if you dont have th eplot_predictions() funciton loaded, this will error\n",
        "plot_predictions(X_train, y_train, X_test, y_test)"
      ],
      "metadata": {
        "colab": {
          "base_uri": "https://localhost:8080/",
          "height": 540
        },
        "id": "nzxlceSMh71H",
        "outputId": "e41fe1ee-5b0a-4246-bf3f-de8c3dfc3cc9"
      },
      "execution_count": null,
      "outputs": [
        {
          "output_type": "display_data",
          "data": {
            "text/plain": [
              "<Figure size 1000x700 with 1 Axes>"
            ],
            "image/png": "[encoded data removed]"
          },
          "metadata": {}
        }
      ]
    },
    {
      "cell_type": "markdown",
      "source": [
        "#Building a PyTorch Linear model"
      ],
      "metadata": {
        "id": "Uije1SuQiXKa"
      }
    },
    {
      "cell_type": "code",
      "source": [
        "#Create a linear model by subclassing nn.Module\n",
        "class LinearRegressionModelV2(nn.Module):\n",
        "  def __init__(self):\n",
        "    super().__init__()\n",
        "    # Use nn.Linear() for creating the model parameters\n",
        "    self.linear_layer = nn.Linear(in_features = 1, #Using a Pre-built feature\n",
        "                                  out_features = 1)\n",
        "\n",
        "  def forward(self,x: torch.Tensor) -> torch.Tensor:\n",
        "    return self.linear_layer(x)\n",
        "\n",
        "#Set the manual seed\n",
        "torch.manual_seed(42)\n",
        "model_1 = LinearRegressionModelV2()\n",
        "model_1, model_1.state_dict()"
      ],
      "metadata": {
        "colab": {
          "base_uri": "https://localhost:8080/"
        },
        "id": "mj8U4p9qiPcX",
        "outputId": "7ee2d093-ffb9-4fcd-9d09-1cd089336081"
      },
      "execution_count": null,
      "outputs": [
        {
          "output_type": "execute_result",
          "data": {
            "text/plain": [
              "(LinearRegressionModelV2(\n",
              "   (linear_layer): Linear(in_features=1, out_features=1, bias=True)\n",
              " ),\n",
              " OrderedDict([('linear_layer.weight', tensor([[0.7645]])),\n",
              "              ('linear_layer.bias', tensor([0.8300]))]))"
            ]
          },
          "metadata": {},
          "execution_count": 382
        }
      ]
    },
    {
      "cell_type": "code",
      "source": [
        "X_train[:5], y_train[:5]"
      ],
      "metadata": {
        "colab": {
          "base_uri": "https://localhost:8080/"
        },
        "id": "coyJvUEqpE8y",
        "outputId": "66abd474-5dfa-42e7-897f-1cb0ed413d75"
      },
      "execution_count": null,
      "outputs": [
        {
          "output_type": "execute_result",
          "data": {
            "text/plain": [
              "(tensor([[0.0000],\n",
              "         [0.0200],\n",
              "         [0.0400],\n",
              "         [0.0600],\n",
              "         [0.0800]]),\n",
              " tensor([[0.3000],\n",
              "         [0.3140],\n",
              "         [0.3280],\n",
              "         [0.3420],\n",
              "         [0.3560]]))"
            ]
          },
          "metadata": {},
          "execution_count": 383
        }
      ]
    },
    {
      "cell_type": "code",
      "source": [
        "#Check the device we are on\n",
        "next(model_1.parameters()).device"
      ],
      "metadata": {
        "colab": {
          "base_uri": "https://localhost:8080/"
        },
        "id": "8V65QXANt2OC",
        "outputId": "320d0aab-34e5-4e22-8a4a-d8a25881a773"
      },
      "execution_count": null,
      "outputs": [
        {
          "output_type": "execute_result",
          "data": {
            "text/plain": [
              "device(type='cpu')"
            ]
          },
          "metadata": {},
          "execution_count": 384
        }
      ]
    },
    {
      "cell_type": "code",
      "source": [
        "#Set the model to use the target device\n",
        "model_1.to (device)\n",
        "next(model_1.parameters()).device"
      ],
      "metadata": {
        "colab": {
          "base_uri": "https://localhost:8080/"
        },
        "id": "rsoJlRdlpLB2",
        "outputId": "b4d7ada1-046c-498d-f7ed-5d3c3729f794"
      },
      "execution_count": null,
      "outputs": [
        {
          "output_type": "execute_result",
          "data": {
            "text/plain": [
              "device(type='cpu')"
            ]
          },
          "metadata": {},
          "execution_count": 385
        }
      ]
    },
    {
      "cell_type": "markdown",
      "source": [
        "###Training\n",
        "\n",
        "for traiing we need:\n",
        "\n",
        "  * Loss function\n",
        "  \n",
        "  * Optimizer\n",
        "  \n",
        "  * Training loop\n",
        "  \n",
        "  * Testing loop"
      ],
      "metadata": {
        "id": "kVQ8qu5RuFrR"
      }
    },
    {
      "cell_type": "code",
      "source": [
        "#Setup loss function\n",
        "loss_fn = nn.L1Loss()\n",
        "\n",
        "optimizer = torch.optim.SGD(params=model_1.parameters(),\n",
        "                            lr=0.01)"
      ],
      "metadata": {
        "id": "2rtz1y-i0_MA"
      },
      "execution_count": null,
      "outputs": []
    },
    {
      "cell_type": "code",
      "source": [
        "#Lets write a training loop\n",
        "torch.manual_seed(42)\n",
        "\n",
        "epochs= 200\n",
        "\n",
        "#Put data on target device\n",
        "X_train = X_train.to(device)\n",
        "y_train = y_train.to(device)\n",
        "X_test = X_test.to(device)\n",
        "y_test = y_test.to(device)\n",
        "\n",
        "for epoch in range(epochs):\n",
        "  model_1.train()\n",
        "\n",
        "  #1. Do forward pass\n",
        "  y_pred = model_1(X_train)\n",
        "\n",
        "  #2. Calculate the loss\n",
        "  loss = loss_fn(y_pred, y_train)\n",
        "\n",
        "  #3. Optimizer zero grad\n",
        "  optimizer.zero_grad()\n",
        "\n",
        "  #4. Perform backpropagation\n",
        "  loss.backward()\n",
        "\n",
        "  #5.optimizer step\n",
        "  optimizer.step()\n",
        "\n",
        "  ###Testing\n",
        "  model_1.eval()\n",
        "  with torch.inference_mode():\n",
        "    test_pred = model_1(X_test)\n",
        "\n",
        "    test_loss = loss_fn(test_pred, y_test)\n",
        "\n",
        "  #Print\n",
        "\n",
        "  if epoch % 10 == 0:\n",
        "    print(f\"Epoch: {epoch} | Loss: {loss} | Test Loss: {test_loss}\")"
      ],
      "metadata": {
        "colab": {
          "base_uri": "https://localhost:8080/"
        },
        "id": "dYpvHgTM31wn",
        "outputId": "bb8af7df-07d5-445f-b8b2-5804b5020993"
      },
      "execution_count": null,
      "outputs": [
        {
          "output_type": "stream",
          "name": "stdout",
          "text": [
            "Epoch: 0 | Loss: 0.5551779866218567 | Test Loss: 0.5739762187004089\n",
            "Epoch: 10 | Loss: 0.4399680495262146 | Test Loss: 0.4392663538455963\n",
            "Epoch: 20 | Loss: 0.3247582018375397 | Test Loss: 0.30455657839775085\n",
            "Epoch: 30 | Loss: 0.20954827964305878 | Test Loss: 0.16984674334526062\n",
            "Epoch: 40 | Loss: 0.09433844685554504 | Test Loss: 0.03513689711689949\n",
            "Epoch: 50 | Loss: 0.023886386305093765 | Test Loss: 0.04784906655550003\n",
            "Epoch: 60 | Loss: 0.0199567973613739 | Test Loss: 0.04580312222242355\n",
            "Epoch: 70 | Loss: 0.016517987474799156 | Test Loss: 0.0375305712223053\n",
            "Epoch: 80 | Loss: 0.013089170679450035 | Test Loss: 0.029944902285933495\n",
            "Epoch: 90 | Loss: 0.009653178043663502 | Test Loss: 0.02167237363755703\n",
            "Epoch: 100 | Loss: 0.006215679459273815 | Test Loss: 0.014086711220443249\n",
            "Epoch: 110 | Loss: 0.002787243574857712 | Test Loss: 0.005814164876937866\n",
            "Epoch: 120 | Loss: 0.0012645035749301314 | Test Loss: 0.013801807537674904\n",
            "Epoch: 130 | Loss: 0.0012645035749301314 | Test Loss: 0.013801807537674904\n",
            "Epoch: 140 | Loss: 0.0012645035749301314 | Test Loss: 0.013801807537674904\n",
            "Epoch: 150 | Loss: 0.0012645035749301314 | Test Loss: 0.013801807537674904\n",
            "Epoch: 160 | Loss: 0.0012645035749301314 | Test Loss: 0.013801807537674904\n",
            "Epoch: 170 | Loss: 0.0012645035749301314 | Test Loss: 0.013801807537674904\n",
            "Epoch: 180 | Loss: 0.0012645035749301314 | Test Loss: 0.013801807537674904\n",
            "Epoch: 190 | Loss: 0.0012645035749301314 | Test Loss: 0.013801807537674904\n"
          ]
        }
      ]
    },
    {
      "cell_type": "code",
      "source": [
        "model_1.state_dict()"
      ],
      "metadata": {
        "colab": {
          "base_uri": "https://localhost:8080/"
        },
        "id": "82Yu7EQQ5pQ-",
        "outputId": "fabb9dc9-6384-4612-b70e-47f209428495"
      },
      "execution_count": null,
      "outputs": [
        {
          "output_type": "execute_result",
          "data": {
            "text/plain": [
              "OrderedDict([('linear_layer.weight', tensor([[0.6968]])),\n",
              "             ('linear_layer.bias', tensor([0.3025]))])"
            ]
          },
          "metadata": {},
          "execution_count": 388
        }
      ]
    },
    {
      "cell_type": "markdown",
      "source": [
        "### Making and evaluating prediction"
      ],
      "metadata": {
        "id": "w7l03t4J71OT"
      }
    },
    {
      "cell_type": "code",
      "source": [
        "model_1.eval()\n",
        "\n",
        "with torch.inference_mode():\n",
        "  y_preds = model_1(X_test)\n",
        "\n",
        "y_preds"
      ],
      "metadata": {
        "colab": {
          "base_uri": "https://localhost:8080/"
        },
        "id": "PD7qdTVX8TI-",
        "outputId": "03d62689-d660-4216-8110-c5c79db455af"
      },
      "execution_count": null,
      "outputs": [
        {
          "output_type": "execute_result",
          "data": {
            "text/plain": [
              "tensor([[0.8600],\n",
              "        [0.8739],\n",
              "        [0.8878],\n",
              "        [0.9018],\n",
              "        [0.9157],\n",
              "        [0.9296],\n",
              "        [0.9436],\n",
              "        [0.9575],\n",
              "        [0.9714],\n",
              "        [0.9854]])"
            ]
          },
          "metadata": {},
          "execution_count": 389
        }
      ]
    },
    {
      "cell_type": "markdown",
      "source": [
        "Check model predictions visually"
      ],
      "metadata": {
        "id": "jtGIyXp38hb_"
      }
    },
    {
      "cell_type": "code",
      "source": [
        "plot_predictions(predictions=y_preds)"
      ],
      "metadata": {
        "colab": {
          "base_uri": "https://localhost:8080/",
          "height": 619
        },
        "id": "leVL-Fmi8m6D",
        "outputId": "2e9688d1-07de-42ce-f1b9-c058d77b65b8"
      },
      "execution_count": null,
      "outputs": [
        {
          "output_type": "display_data",
          "data": {
            "text/plain": [
              "<Figure size 1000x700 with 1 Axes>"
            ],
            "image/png": "[encoded data removed]"
          },
          "metadata": {}
        }
      ]
    },
    {
      "cell_type": "markdown",
      "source": [
        "#Saving and loading a model\n"
      ],
      "metadata": {
        "id": "wlhQ5fFM9WN1"
      }
    },
    {
      "cell_type": "code",
      "source": [
        "from pathlib import Path\n",
        "\n",
        "#Create models dictionary\n",
        "MODEL_PATH = Path(\"models\")\n",
        "MODEL_PATH.mkdir(parents=True, exist_ok=True)\n",
        "\n",
        "#Create model save path\n",
        "MODEL_NAME = \"01_pytorch_workflow_model_1.pth\"\n",
        "MODEL_SAVE_PATH = MODEL_PATH / MODEL_NAME\n",
        "\n",
        "#Save the model state dict\n",
        "print(f\"Saving model to : {MODEL_SAVE_PATH}\")\n",
        "torch.save(obj=model_1.state_dict(),\n",
        "           f=MODEL_SAVE_PATH)"
      ],
      "metadata": {
        "colab": {
          "base_uri": "https://localhost:8080/"
        },
        "id": "EFucAsct9XW4",
        "outputId": "32018f32-3daf-4b3b-eae8-0aceb1a1ca45"
      },
      "execution_count": null,
      "outputs": [
        {
          "output_type": "stream",
          "name": "stdout",
          "text": [
            "Saving model to : models/01_pytorch_workflow_model_1.pth\n"
          ]
        }
      ]
    },
    {
      "cell_type": "code",
      "source": [
        "#Load a model\n",
        "loaded_model_1 = LinearRegressionModelV2()\n",
        "\n",
        "#Load the saved model_1 state_dict\n",
        "loaded_model_1.load_state_dict(torch.load(MODEL_SAVE_PATH))\n",
        "\n",
        "#Put target modelm to the device\n",
        "loaded_model_1.to(device)"
      ],
      "metadata": {
        "colab": {
          "base_uri": "https://localhost:8080/"
        },
        "id": "7D3W1VO4-EVd",
        "outputId": "527cc049-e288-4586-c3bf-c688595b4338"
      },
      "execution_count": null,
      "outputs": [
        {
          "output_type": "execute_result",
          "data": {
            "text/plain": [
              "LinearRegressionModelV2(\n",
              "  (linear_layer): Linear(in_features=1, out_features=1, bias=True)\n",
              ")"
            ]
          },
          "metadata": {},
          "execution_count": 397
        }
      ]
    },
    {
      "cell_type": "code",
      "source": [
        "#Evaluate the loaded model\n",
        "loaded_model_1.eval()\n",
        "with torch.inference_mode():\n",
        "  loaded_model_1_preds = loaded_model_1(X_test)\n",
        "y_preds == loaded_model_1_preds"
      ],
      "metadata": {
        "colab": {
          "base_uri": "https://localhost:8080/"
        },
        "id": "eVJbCPrt_WrA",
        "outputId": "d354e99f-1a3f-423e-933d-6eb106bea3cc"
      },
      "execution_count": null,
      "outputs": [
        {
          "output_type": "execute_result",
          "data": {
            "text/plain": [
              "tensor([[True],\n",
              "        [True],\n",
              "        [True],\n",
              "        [True],\n",
              "        [True],\n",
              "        [True],\n",
              "        [True],\n",
              "        [True],\n",
              "        [True],\n",
              "        [True]])"
            ]
          },
          "metadata": {},
          "execution_count": 398
        }
      ]
    },
    {
      "cell_type": "code",
      "source": [],
      "metadata": {
        "id": "6aVDIce8_1I-"
      },
      "execution_count": null,
      "outputs": []
    }
  ]
}